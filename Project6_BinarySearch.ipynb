{
 "cells": [
  {
   "cell_type": "code",
   "execution_count": 36,
   "id": "504c96c0-3519-471a-b7b3-5e32dabfedf9",
   "metadata": {},
   "outputs": [
    {
     "ename": "KeyboardInterrupt",
     "evalue": "",
     "output_type": "error",
     "traceback": [
      "\u001b[1;31m---------------------------------------------------------------------------\u001b[0m",
      "\u001b[1;31mKeyboardInterrupt\u001b[0m                         Traceback (most recent call last)",
      "Input \u001b[1;32mIn [36]\u001b[0m, in \u001b[0;36m<cell line: 37>\u001b[1;34m()\u001b[0m\n\u001b[0;32m     36\u001b[0m start_naive \u001b[38;5;241m=\u001b[39m time\u001b[38;5;241m.\u001b[39mtime()\n\u001b[0;32m     37\u001b[0m \u001b[38;5;28;01mfor\u001b[39;00m target \u001b[38;5;129;01min\u001b[39;00m \u001b[38;5;28mlist\u001b[39m:\n\u001b[1;32m---> 38\u001b[0m     \u001b[43mnaive_search\u001b[49m\u001b[43m(\u001b[49m\u001b[38;5;28;43mlist\u001b[39;49m\u001b[43m,\u001b[49m\u001b[43m \u001b[49m\u001b[43mtarget\u001b[49m\u001b[43m)\u001b[49m\n\u001b[0;32m     39\u001b[0m end_naive \u001b[38;5;241m=\u001b[39m time\u001b[38;5;241m.\u001b[39mtime()\n\u001b[0;32m     40\u001b[0m naive_time \u001b[38;5;241m=\u001b[39m \u001b[38;5;28mround\u001b[39m(end_naive \u001b[38;5;241m-\u001b[39m start_naive, \u001b[38;5;241m3\u001b[39m)\n",
      "Input \u001b[1;32mIn [36]\u001b[0m, in \u001b[0;36mnaive_search\u001b[1;34m(list, target)\u001b[0m\n\u001b[0;32m      8\u001b[0m \u001b[38;5;28;01mdef\u001b[39;00m \u001b[38;5;21mnaive_search\u001b[39m(\u001b[38;5;28mlist\u001b[39m, target):     \u001b[38;5;66;03m#Naive search iterates through every element and checks whether the member is target\u001b[39;00m\n\u001b[0;32m      9\u001b[0m     \u001b[38;5;28;01mfor\u001b[39;00m i \u001b[38;5;129;01min\u001b[39;00m \u001b[38;5;28mrange\u001b[39m(\u001b[38;5;28mlen\u001b[39m(\u001b[38;5;28mlist\u001b[39m)):\n\u001b[1;32m---> 10\u001b[0m         \u001b[38;5;28;01mif\u001b[39;00m \u001b[38;5;28mlist\u001b[39m[i] \u001b[38;5;241m==\u001b[39m target:\n\u001b[0;32m     11\u001b[0m             \u001b[38;5;28;01mreturn\u001b[39;00m i\n\u001b[0;32m     12\u001b[0m     \u001b[38;5;28;01mreturn\u001b[39;00m \u001b[38;5;241m-\u001b[39m\u001b[38;5;241m1\u001b[39m\n",
      "\u001b[1;31mKeyboardInterrupt\u001b[0m: "
     ]
    }
   ],
   "source": [
    "#CODE COURTESY OF Kylie Ying: https://www.youtube.com/watch?v=8ext9G7xspg\n",
    "import random\n",
    "import time\n",
    "\n",
    "\n",
    "#Binary search is a search method that divides the list in half and checks based on which side the desired element is\n",
    "\n",
    "def naive_search(list, target):     #Naive search iterates through every element and checks whether the member is target\n",
    "    for i in range(len(list)):\n",
    "        if list[i] == target:\n",
    "            return i\n",
    "    return -1\n",
    "\n",
    "def binary_search(list, target, lowpoint=None, highpoint=None):    #Binary search divides the search results by half, depending on which side the desired outcome is\n",
    "    if lowpoint == None:    \n",
    "        lowpoint = 0\n",
    "    if highpoint == None:\n",
    "        highpoint = len(list) - 1\n",
    "    midpoint = (lowpoint + highpoint) // 2\n",
    "    \n",
    "    if highpoint < lowpoint:    #Only happens when the target is not found\n",
    "        return -1 \n",
    "        \n",
    "    if list[midpoint] == target:\n",
    "        return target\n",
    "    elif target > list[midpoint]:\n",
    "        return binary_search(list, target, midpoint + 1, highpoint)\n",
    "    elif target < list[midpoint]:\n",
    "        return binary_search(list, target, lowpoint, midpoint - 1)\n",
    "        \n",
    "list = []\n",
    "for i in range(20000):\n",
    "    list.append(i)\n",
    "target = random.randrange(20000)\n",
    "\n",
    "start_naive = time.time()\n",
    "for target in list:\n",
    "    naive_search(list, target)\n",
    "end_naive = time.time()\n",
    "naive_time = round(end_naive - start_naive, 3)\n",
    "\n",
    "start_binary = time.time()\n",
    "for target in list:\n",
    "    binary_search(list, target)\n",
    "end_binary = time.time()\n",
    "binary_time = round(end_binary - start_binary, 3)\n",
    "\n",
    "print(f\"The time it took for the Naive search was {naive_time} seconds.\")\n",
    "print(f\"The time it took for the Binary search was {binary_time} seconds.\")\n",
    "print(f\"In conclusion, the Binary search surpassed the Naive search {round(naive_time/binary_time, 3)} times.\")\n",
    "\n",
    "\n"
   ]
  },
  {
   "cell_type": "code",
   "execution_count": null,
   "id": "68fa7a71-55ed-4770-b9c2-2eca3c3ab377",
   "metadata": {},
   "outputs": [],
   "source": []
  },
  {
   "cell_type": "code",
   "execution_count": null,
   "id": "df61310d-88dc-41b8-ae2f-e3134a0c83c8",
   "metadata": {},
   "outputs": [],
   "source": []
  },
  {
   "cell_type": "code",
   "execution_count": null,
   "id": "8d47884e-4b7b-47a4-ae93-008e39f803d2",
   "metadata": {},
   "outputs": [],
   "source": []
  }
 ],
 "metadata": {
  "kernelspec": {
   "display_name": "Python 3 (ipykernel)",
   "language": "python",
   "name": "python3"
  },
  "language_info": {
   "codemirror_mode": {
    "name": "ipython",
    "version": 3
   },
   "file_extension": ".py",
   "mimetype": "text/x-python",
   "name": "python",
   "nbconvert_exporter": "python",
   "pygments_lexer": "ipython3",
   "version": "3.10.4"
  }
 },
 "nbformat": 4,
 "nbformat_minor": 5
}
