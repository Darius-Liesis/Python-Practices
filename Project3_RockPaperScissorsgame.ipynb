{
 "cells": [
  {
   "cell_type": "code",
   "execution_count": null,
   "id": "0030f19b-36a4-4820-a84d-5f39d6520d4f",
   "metadata": {},
   "outputs": [],
   "source": [
    "#Rock Paper Scissors game\n",
    "import random\n",
    "\n",
    "#Function play() engages the game, requesting two inputs and comparing the three scenarios\n",
    "def play():\n",
    "    user = input(\"Please choose between [R]ock, [P]aper or [S]cissors.\").lower()\n",
    "    computer = random.choice(['r', 'p', 's'])\n",
    "    print(f\"You have chosen {user}, and the computer has chosen {computer}\")\n",
    "    if(user == computer):\n",
    "        print(\"It's a tie.\")\n",
    "    if (user_win(user, computer)):\n",
    "        print(\"Congratulations, you won!\")\n",
    "    if ( computer_win(user, computer)):\n",
    "        print(\"Unfortunately, the computer won.\")\n",
    "\n",
    "#Function user_win() returns True if by comparing the two choices, the user won        \n",
    "def user_win(user_choice, comp_choice):\n",
    "    if( (user_choice == 'r' and comp_choice == 's') or (user_choice == 's' and comp_choice == 'p') or (user_choice == 'p' and comp_choice == 'r')):\n",
    "        return True\n",
    "#Function computer_win() returns True if by comparing the two choices, the computer won\n",
    "def computer_win(user_choice, comp_choice):\n",
    "    if( (user_choice == 'r' and comp_choice == 'p') or (user_choice == 'p' and comp_choice == 's') or (user_choice == 's' and comp_choice == 'r')):\n",
    "        return True\n",
    "        \n",
    "play()"
   ]
  },
  {
   "cell_type": "code",
   "execution_count": null,
   "id": "8c977e4c-f50e-4094-b504-1661810a6be8",
   "metadata": {},
   "outputs": [],
   "source": []
  }
 ],
 "metadata": {
  "kernelspec": {
   "display_name": "Python 3 (ipykernel)",
   "language": "python",
   "name": "python3"
  },
  "language_info": {
   "codemirror_mode": {
    "name": "ipython",
    "version": 3
   },
   "file_extension": ".py",
   "mimetype": "text/x-python",
   "name": "python",
   "nbconvert_exporter": "python",
   "pygments_lexer": "ipython3",
   "version": "3.10.4"
  }
 },
 "nbformat": 4,
 "nbformat_minor": 5
}
