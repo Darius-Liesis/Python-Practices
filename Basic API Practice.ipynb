{
 "cells": [
  {
   "cell_type": "code",
   "execution_count": 26,
   "id": "f03aa59f-0935-4700-860a-5830f664fcf3",
   "metadata": {},
   "outputs": [
    {
     "name": "stdout",
     "output_type": "stream",
     "text": [
      "200\n",
      "<class 'str'>\n",
      "{\n",
      "    \"authorizations_url\": \"https://api.github.com/authorizations\",\n",
      "    \"code_search_url\": \"https://api.github.com/search/code?q={query}{&page,per_page,sort,order}\",\n",
      "    \"commit_search_url\": \"https://api.github.com/search/commits?q={query}{&page,per_page,sort,order}\",\n",
      "    \"current_user_authorizations_html_url\": \"https://github.com/settings/connections/applications{/client_id}\",\n",
      "    \"current_user_repositories_url\": \"https://api.github.com/user/repos{?type,page,per_page,sort}\",\n",
      "    \"current_user_url\": \"https://api.github.com/user\",\n",
      "    \"emails_url\": \"https://api.github.com/user/emails\",\n",
      "    \"emojis_url\": \"https://api.github.com/emojis\",\n",
      "    \"events_url\": \"https://api.github.com/events\",\n",
      "    \"feeds_url\": \"https://api.github.com/feeds\",\n",
      "    \"followers_url\": \"https://api.github.com/user/followers\",\n",
      "    \"following_url\": \"https://api.github.com/user/following{/target}\",\n",
      "    \"gists_url\": \"https://api.github.com/gists{/gist_id}\",\n",
      "    \"hub_url\": \"https://api.github.com/hub\",\n",
      "    \"issue_search_url\": \"https://api.github.com/search/issues?q={query}{&page,per_page,sort,order}\",\n",
      "    \"issues_url\": \"https://api.github.com/issues\",\n",
      "    \"keys_url\": \"https://api.github.com/user/keys\",\n",
      "    \"label_search_url\": \"https://api.github.com/search/labels?q={query}&repository_id={repository_id}{&page,per_page}\",\n",
      "    \"notifications_url\": \"https://api.github.com/notifications\",\n",
      "    \"organization_repositories_url\": \"https://api.github.com/orgs/{org}/repos{?type,page,per_page,sort}\",\n",
      "    \"organization_teams_url\": \"https://api.github.com/orgs/{org}/teams\",\n",
      "    \"organization_url\": \"https://api.github.com/orgs/{org}\",\n",
      "    \"public_gists_url\": \"https://api.github.com/gists/public\",\n",
      "    \"rate_limit_url\": \"https://api.github.com/rate_limit\",\n",
      "    \"repository_search_url\": \"https://api.github.com/search/repositories?q={query}{&page,per_page,sort,order}\",\n",
      "    \"repository_url\": \"https://api.github.com/repos/{owner}/{repo}\",\n",
      "    \"starred_gists_url\": \"https://api.github.com/gists/starred\",\n",
      "    \"starred_url\": \"https://api.github.com/user/starred{/owner}{/repo}\",\n",
      "    \"topic_search_url\": \"https://api.github.com/search/topics?q={query}{&page,per_page}\",\n",
      "    \"user_organizations_url\": \"https://api.github.com/user/orgs\",\n",
      "    \"user_repositories_url\": \"https://api.github.com/users/{user}/repos{?type,page,per_page,sort}\",\n",
      "    \"user_search_url\": \"https://api.github.com/search/users?q={query}{&page,per_page,sort,order}\",\n",
      "    \"user_url\": \"https://api.github.com/users/{user}\"\n",
      "}\n",
      "<class 'dict'>\n",
      "{'current_user_url': 'https://api.github.com/user', 'current_user_authorizations_html_url': 'https://github.com/settings/connections/applications{/client_id}', 'authorizations_url': 'https://api.github.com/authorizations', 'code_search_url': 'https://api.github.com/search/code?q={query}{&page,per_page,sort,order}', 'commit_search_url': 'https://api.github.com/search/commits?q={query}{&page,per_page,sort,order}', 'emails_url': 'https://api.github.com/user/emails', 'emojis_url': 'https://api.github.com/emojis', 'events_url': 'https://api.github.com/events', 'feeds_url': 'https://api.github.com/feeds', 'followers_url': 'https://api.github.com/user/followers', 'following_url': 'https://api.github.com/user/following{/target}', 'gists_url': 'https://api.github.com/gists{/gist_id}', 'hub_url': 'https://api.github.com/hub', 'issue_search_url': 'https://api.github.com/search/issues?q={query}{&page,per_page,sort,order}', 'issues_url': 'https://api.github.com/issues', 'keys_url': 'https://api.github.com/user/keys', 'label_search_url': 'https://api.github.com/search/labels?q={query}&repository_id={repository_id}{&page,per_page}', 'notifications_url': 'https://api.github.com/notifications', 'organization_url': 'https://api.github.com/orgs/{org}', 'organization_repositories_url': 'https://api.github.com/orgs/{org}/repos{?type,page,per_page,sort}', 'organization_teams_url': 'https://api.github.com/orgs/{org}/teams', 'public_gists_url': 'https://api.github.com/gists/public', 'rate_limit_url': 'https://api.github.com/rate_limit', 'repository_url': 'https://api.github.com/repos/{owner}/{repo}', 'repository_search_url': 'https://api.github.com/search/repositories?q={query}{&page,per_page,sort,order}', 'current_user_repositories_url': 'https://api.github.com/user/repos{?type,page,per_page,sort}', 'starred_url': 'https://api.github.com/user/starred{/owner}{/repo}', 'starred_gists_url': 'https://api.github.com/gists/starred', 'topic_search_url': 'https://api.github.com/search/topics?q={query}{&page,per_page}', 'user_url': 'https://api.github.com/users/{user}', 'user_organizations_url': 'https://api.github.com/user/orgs', 'user_repositories_url': 'https://api.github.com/users/{user}/repos{?type,page,per_page,sort}', 'user_search_url': 'https://api.github.com/search/users?q={query}{&page,per_page,sort,order}'}\n"
     ]
    }
   ],
   "source": [
    "import requests\n",
    "from requests.adapters import HTTPAdapter\n",
    "from requests.packages.urllib3.util.retry import Retry\n",
    "import json\n",
    "from urllib.request import urlopen\n",
    "\n",
    "def jprint(obj):\n",
    "    # create a formatted string of the Python JSON object\n",
    "    text = json.dumps(obj, sort_keys=True, indent=4)\n",
    "    return(text)\n",
    "\n",
    "url = \"https://api.github.com\"\n",
    "\n",
    "session = requests.Session()\n",
    "retry = Retry(connect=3, backoff_factor=0.5)\n",
    "adapter = HTTPAdapter(max_retries=retry)\n",
    "session.mount('http://', adapter)\n",
    "session.mount('https://', adapter)\n",
    "\n",
    "\n",
    "response1 = session.get(url)   #Returns dict\n",
    "response2 = urlopen(url)     #Returns bytes\n",
    "\n",
    "data_json1 = jprint(response1.json())   #Equivalent to json.dumps(), returns a str\n",
    "data_json2 = json.loads(response2.read())\n",
    "\n",
    "#Output printing\n",
    "print(response1.status_code)\n",
    "print(type(data_json1))\n",
    "print(data_json1)\n",
    "\n",
    "print(type(data_json2))\n",
    "print(data_json2)"
   ]
  },
  {
   "cell_type": "code",
   "execution_count": null,
   "id": "38bf1cec-38d2-4f3e-82ff-6e5c2bd50ef8",
   "metadata": {},
   "outputs": [],
   "source": []
  }
 ],
 "metadata": {
  "kernelspec": {
   "display_name": "Python 3 (ipykernel)",
   "language": "python",
   "name": "python3"
  },
  "language_info": {
   "codemirror_mode": {
    "name": "ipython",
    "version": 3
   },
   "file_extension": ".py",
   "mimetype": "text/x-python",
   "name": "python",
   "nbconvert_exporter": "python",
   "pygments_lexer": "ipython3",
   "version": "3.10.4"
  }
 },
 "nbformat": 4,
 "nbformat_minor": 5
}
