{
 "cells": [
  {
   "cell_type": "code",
   "execution_count": 1,
   "id": "e72cfe6b-0dcb-456a-a38a-312f9be64e84",
   "metadata": {},
   "outputs": [
    {
     "name": "stdout",
     "output_type": "stream",
     "text": [
      "Current weather in Vilnius: 20 °C Daugumoje rajonų saulėta\n"
     ]
    }
   ],
   "source": [
    "from requests_html import HTMLSession\n",
    "\n",
    "#Session start\n",
    "session = HTMLSession()\n",
    "query = \"Vilnius\"\n",
    "url = f\"https://www.google.com/search?q=weather+{query}\"\n",
    "\n",
    "#Creating a request according to the user and url variables\n",
    "request = session.get(url, headers={\"User-Agent\": \"Mozilla/5.0 (Windows NT 10.0; Win64; x64) AppleWebKit/537.36 (KHTML, like Gecko) Chrome/102.0.5005.63 Safari/537.36\"})\n",
    "\n",
    "#Searching for specific values and storing them\n",
    "temperature = (request.html.find(\"span#wob_tm\",first=True).text)\n",
    "temp_unit = (request.html.find(\"div.vk_bk.wob-unit span.wob_t\", first=True).text)\n",
    "condition = (request.html.find(\"div.VQF4g\", first=True).find(\"span#wob_dc\", first=True).text)\n",
    "\n",
    "print(\"Current weather in \" + query + \":\", temperature, temp_unit, condition)"
   ]
  },
  {
   "cell_type": "code",
   "execution_count": null,
   "id": "df85883b-13a8-4352-bf46-65313163df8b",
   "metadata": {},
   "outputs": [],
   "source": []
  }
 ],
 "metadata": {
  "kernelspec": {
   "display_name": "Python 3 (ipykernel)",
   "language": "python",
   "name": "python3"
  },
  "language_info": {
   "codemirror_mode": {
    "name": "ipython",
    "version": 3
   },
   "file_extension": ".py",
   "mimetype": "text/x-python",
   "name": "python",
   "nbconvert_exporter": "python",
   "pygments_lexer": "ipython3",
   "version": "3.10.4"
  }
 },
 "nbformat": 4,
 "nbformat_minor": 5
}
