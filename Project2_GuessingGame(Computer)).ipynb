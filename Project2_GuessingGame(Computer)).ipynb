{
 "cells": [
  {
   "cell_type": "code",
   "execution_count": 18,
   "id": "06e22cbe-7de6-49be-805d-5c00cc4ca45d",
   "metadata": {},
   "outputs": [
    {
     "name": "stdin",
     "output_type": "stream",
     "text": [
      "Welcome to my guessing game program. Would you like to guess a computer's number, or have the computer guess yours? Please reply with to guess/to have guessed accordingly to have guessed\n",
      "You have chosen to have a computer guess your number. Very well, please choose a number that will be the maxim of the guessing game. The higher you go, the more difficult it would be to guess. Which number will you choose? 50\n",
      "My guess of your number is 44. Is this number correct? Please reply with Yes/No. No\n",
      "No? Well, did I guess too low, or too high? Please reply with High/Low to help me correct my choice. Low\n",
      "My guess of your number is 49. Is this number correct? Please reply with Yes/No. No\n",
      "No? Well, did I guess too low, or too high? Please reply with High/Low to help me correct my choice. high\n",
      "My guess of your number is 46. Is this number correct? Please reply with Yes/No. no\n",
      "No? Well, did I guess too low, or too high? Please reply with High/Low to help me correct my choice. High\n",
      "My guess of your number is 45. Is this number correct? Please reply with Yes/No. no\n",
      "No? Well, did I guess too low, or too high? Please reply with High/Low to help me correct my choice. High\n"
     ]
    },
    {
     "ename": "ValueError",
     "evalue": "empty range for randrange() (45, 45, 0)",
     "output_type": "error",
     "traceback": [
      "\u001b[1;31m---------------------------------------------------------------------------\u001b[0m",
      "\u001b[1;31mValueError\u001b[0m                                Traceback (most recent call last)",
      "Input \u001b[1;32mIn [18]\u001b[0m, in \u001b[0;36m<cell line: 38>\u001b[1;34m()\u001b[0m\n\u001b[0;32m     38\u001b[0m \u001b[38;5;28;01mif\u001b[39;00m(user_choice \u001b[38;5;241m==\u001b[39m \u001b[38;5;124m\"\u001b[39m\u001b[38;5;124mto have guessed\u001b[39m\u001b[38;5;124m\"\u001b[39m):\n\u001b[0;32m     39\u001b[0m     y \u001b[38;5;241m=\u001b[39m \u001b[38;5;28mint\u001b[39m(\u001b[38;5;28minput\u001b[39m(\u001b[38;5;124m\"\u001b[39m\u001b[38;5;124mYou have chosen to have a computer guess your number. Very well, please choose a number that will be the maxim of the guessing game. The higher you go, the more difficult it would be to guess. Which number will you choose?\u001b[39m\u001b[38;5;124m\"\u001b[39m)) \n\u001b[1;32m---> 40\u001b[0m     \u001b[43mcomputerguess\u001b[49m\u001b[43m(\u001b[49m\u001b[43my\u001b[49m\u001b[43m)\u001b[49m\n\u001b[0;32m     41\u001b[0m \u001b[38;5;28;01mif\u001b[39;00m(user_choice \u001b[38;5;241m==\u001b[39m \u001b[38;5;124m\"\u001b[39m\u001b[38;5;124mto guess\u001b[39m\u001b[38;5;124m\"\u001b[39m):\n\u001b[0;32m     42\u001b[0m     x \u001b[38;5;241m=\u001b[39m \u001b[38;5;28mint\u001b[39m(\u001b[38;5;28minput\u001b[39m(\u001b[38;5;124m\"\u001b[39m\u001b[38;5;124mYou have chosen to guess a computer\u001b[39m\u001b[38;5;124m'\u001b[39m\u001b[38;5;124ms number. Very well, please choose a number that will be the maxim of the guessing game. The higher you go, the more difficult it would be to guess. Which number will you choose?\u001b[39m\u001b[38;5;124m\"\u001b[39m))\n",
      "Input \u001b[1;32mIn [18]\u001b[0m, in \u001b[0;36mcomputerguess\u001b[1;34m(y)\u001b[0m\n\u001b[0;32m     24\u001b[0m feedback \u001b[38;5;241m=\u001b[39m \u001b[38;5;124m\"\u001b[39m\u001b[38;5;124m\"\u001b[39m   \u001b[38;5;66;03m#The feedback variable is responsible for user to offer guidance to the machine\u001b[39;00m\n\u001b[0;32m     25\u001b[0m \u001b[38;5;28;01mwhile\u001b[39;00m(feedback \u001b[38;5;241m!=\u001b[39m \u001b[38;5;124m\"\u001b[39m\u001b[38;5;124myes\u001b[39m\u001b[38;5;124m\"\u001b[39m):\n\u001b[1;32m---> 26\u001b[0m     guess \u001b[38;5;241m=\u001b[39m \u001b[43mrandom\u001b[49m\u001b[38;5;241;43m.\u001b[39;49m\u001b[43mrandint\u001b[49m\u001b[43m(\u001b[49m\u001b[43mlowestnumber\u001b[49m\u001b[43m,\u001b[49m\u001b[43m \u001b[49m\u001b[43mhighestnumber\u001b[49m\u001b[43m)\u001b[49m      \n\u001b[0;32m     27\u001b[0m     feedback \u001b[38;5;241m=\u001b[39m \u001b[38;5;28minput\u001b[39m(\u001b[38;5;124mf\u001b[39m\u001b[38;5;124m\"\u001b[39m\u001b[38;5;124mMy guess of your number is \u001b[39m\u001b[38;5;132;01m{\u001b[39;00mguess\u001b[38;5;132;01m}\u001b[39;00m\u001b[38;5;124m. Is this number correct? Please reply with Yes/No.\u001b[39m\u001b[38;5;124m\"\u001b[39m)\u001b[38;5;241m.\u001b[39mlower()    \u001b[38;5;66;03m#Equalizing reply with lowercase letters\u001b[39;00m\n\u001b[0;32m     28\u001b[0m     \u001b[38;5;28;01mif\u001b[39;00m(feedback \u001b[38;5;241m==\u001b[39m \u001b[38;5;124m\"\u001b[39m\u001b[38;5;124mno\u001b[39m\u001b[38;5;124m\"\u001b[39m):\n",
      "File \u001b[1;32m~\\Anaconda3\\envs\\DariusL\\lib\\random.py:370\u001b[0m, in \u001b[0;36mRandom.randint\u001b[1;34m(self, a, b)\u001b[0m\n\u001b[0;32m    366\u001b[0m \u001b[38;5;28;01mdef\u001b[39;00m \u001b[38;5;21mrandint\u001b[39m(\u001b[38;5;28mself\u001b[39m, a, b):\n\u001b[0;32m    367\u001b[0m     \u001b[38;5;124;03m\"\"\"Return random integer in range [a, b], including both end points.\u001b[39;00m\n\u001b[0;32m    368\u001b[0m \u001b[38;5;124;03m    \"\"\"\u001b[39;00m\n\u001b[1;32m--> 370\u001b[0m     \u001b[38;5;28;01mreturn\u001b[39;00m \u001b[38;5;28;43mself\u001b[39;49m\u001b[38;5;241;43m.\u001b[39;49m\u001b[43mrandrange\u001b[49m\u001b[43m(\u001b[49m\u001b[43ma\u001b[49m\u001b[43m,\u001b[49m\u001b[43m \u001b[49m\u001b[43mb\u001b[49m\u001b[38;5;241;43m+\u001b[39;49m\u001b[38;5;241;43m1\u001b[39;49m\u001b[43m)\u001b[49m\n",
      "File \u001b[1;32m~\\Anaconda3\\envs\\DariusL\\lib\\random.py:353\u001b[0m, in \u001b[0;36mRandom.randrange\u001b[1;34m(self, start, stop, step)\u001b[0m\n\u001b[0;32m    351\u001b[0m     \u001b[38;5;28;01mif\u001b[39;00m width \u001b[38;5;241m>\u001b[39m \u001b[38;5;241m0\u001b[39m:\n\u001b[0;32m    352\u001b[0m         \u001b[38;5;28;01mreturn\u001b[39;00m istart \u001b[38;5;241m+\u001b[39m \u001b[38;5;28mself\u001b[39m\u001b[38;5;241m.\u001b[39m_randbelow(width)\n\u001b[1;32m--> 353\u001b[0m     \u001b[38;5;28;01mraise\u001b[39;00m \u001b[38;5;167;01mValueError\u001b[39;00m(\u001b[38;5;124m\"\u001b[39m\u001b[38;5;124mempty range for randrange() (\u001b[39m\u001b[38;5;132;01m%d\u001b[39;00m\u001b[38;5;124m, \u001b[39m\u001b[38;5;132;01m%d\u001b[39;00m\u001b[38;5;124m, \u001b[39m\u001b[38;5;132;01m%d\u001b[39;00m\u001b[38;5;124m)\u001b[39m\u001b[38;5;124m\"\u001b[39m \u001b[38;5;241m%\u001b[39m (istart, istop, width))\n\u001b[0;32m    355\u001b[0m \u001b[38;5;66;03m# Non-unit step argument supplied.\u001b[39;00m\n\u001b[0;32m    356\u001b[0m \u001b[38;5;28;01mif\u001b[39;00m istep \u001b[38;5;241m>\u001b[39m \u001b[38;5;241m0\u001b[39m:\n",
      "\u001b[1;31mValueError\u001b[0m: empty range for randrange() (45, 45, 0)"
     ]
    }
   ],
   "source": [
    "import random #library for randomizing numbers\n",
    "\n",
    "#Defining a function that passes an int variable as a maximum for the randint() generation\n",
    "def guess(x):\n",
    "    random_number = random.randint(1,x)\n",
    "    guess = 0\n",
    "    attempts = 0\n",
    "    while(guess != random_number):   #Creates a loop without limits, that iterates until the random number is guessed.\n",
    "        guess = int(input(f\"Please input a number between 1 and {x}\"))   #important to cast the comparable numbers as int() in order to have the same type, instead of strings\n",
    "        if(guess > random_number):\n",
    "            print(f\"{guess} is higher than my number. Try guessing lower.\")\n",
    "            attempts += 1\n",
    "        elif(guess < random_number):\n",
    "            print(f\"{guess} is lower than my number. Try guessing higher.\")\n",
    "            attempts += 1\n",
    "    else:\n",
    "        print(f\"Congratulations, you have guessed the number! It took you {attempts} tries to do so.\")\n",
    "\n",
    "#Defining the next function to do a reverse scenario: computer guesses a user's input\n",
    "def computerguess(y):\n",
    "    lowestnumber = 1\n",
    "    highestnumber = y\n",
    "    compattempts = 0\n",
    "    feedback = \"\"   #The feedback variable is responsible for user to offer guidance to the machine\n",
    "    while(feedback != \"yes\"):\n",
    "        guess = random.randint(lowestnumber, highestnumber)      \n",
    "        feedback = input(f\"My guess of your number is {guess}. Is this number correct? Please reply with Yes/No.\").lower()    #Equalizing reply with lowercase letters\n",
    "        if(feedback == \"no\"):\n",
    "            feedback = input(f\"No? Well, did I guess too low, or too high? Please reply with High/Low to help me correct my choice.\").lower()\n",
    "            compattempts += 1 \n",
    "            if(feedback == \"high\"):\n",
    "                highestnumber = guess - 1   #Narrowing the choices by decreasing the highest number\n",
    "            elif(feedback == \"low\"):\n",
    "                lowestnumber = guess + 1    #Narrowing the choices by increasing the lowest number\n",
    "    print(f\"I've guessed your number in {compattempts} guesses. Thank you, for your time. :)\" )\n",
    "    \n",
    "user_choice = input(\"Welcome to my guessing game program. Would you like to guess a computer's number, or have the computer guess yours? Please reply with to guess/to have guessed accordingly\").lower()\n",
    "if(user_choice == \"to have guessed\"):\n",
    "    y = int(input(\"You have chosen to have a computer guess your number. Very well, please choose a number that will be the maxim of the guessing game. The higher you go, the more difficult it would be to guess. Which number will you choose?\")) \n",
    "    computerguess(y)\n",
    "if(user_choice == \"to guess\"):\n",
    "    x = int(input(\"You have chosen to guess a computer's number. Very well, please choose a number that will be the maxim of the guessing game. The higher you go, the more difficult it would be to guess. Which number will you choose?\"))\n",
    "    guess(x)\n"
   ]
  },
  {
   "cell_type": "code",
   "execution_count": null,
   "id": "9be795d2-336a-4400-a206-3d793b7e9c66",
   "metadata": {},
   "outputs": [],
   "source": []
  }
 ],
 "metadata": {
  "kernelspec": {
   "display_name": "Python 3 (ipykernel)",
   "language": "python",
   "name": "python3"
  },
  "language_info": {
   "codemirror_mode": {
    "name": "ipython",
    "version": 3
   },
   "file_extension": ".py",
   "mimetype": "text/x-python",
   "name": "python",
   "nbconvert_exporter": "python",
   "pygments_lexer": "ipython3",
   "version": "3.10.4"
  }
 },
 "nbformat": 4,
 "nbformat_minor": 5
}
