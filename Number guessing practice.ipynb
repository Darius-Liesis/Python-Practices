{
 "cells": [
  {
   "cell_type": "code",
   "execution_count": 29,
   "id": "7bbf35dd-cbf7-40aa-87e3-ba801faa9c9a",
   "metadata": {},
   "outputs": [
    {
     "name": "stdin",
     "output_type": "stream",
     "text": [
      "Welcome to a simple guessing game made using Python. I am thinking of an integer number between 0 and 100... Which number am I thinking? 5\n",
      "Your number is less than my number... Try again. 69\n"
     ]
    },
    {
     "name": "stdout",
     "output_type": "stream",
     "text": [
      "69\n"
     ]
    },
    {
     "name": "stdin",
     "output_type": "stream",
     "text": [
      "Your number is greater than my number... Try again. 40\n"
     ]
    },
    {
     "name": "stdout",
     "output_type": "stream",
     "text": [
      "40\n"
     ]
    },
    {
     "name": "stdin",
     "output_type": "stream",
     "text": [
      "Your number is less than my number... Try again. 37\n"
     ]
    },
    {
     "name": "stdout",
     "output_type": "stream",
     "text": [
      "37\n"
     ]
    },
    {
     "name": "stdin",
     "output_type": "stream",
     "text": [
      "Your number is less than my number... Try again. 39\n"
     ]
    },
    {
     "name": "stdout",
     "output_type": "stream",
     "text": [
      "39\n"
     ]
    },
    {
     "name": "stdin",
     "output_type": "stream",
     "text": [
      "Your number is less than my number... Try again. 38\n"
     ]
    },
    {
     "name": "stdout",
     "output_type": "stream",
     "text": [
      "38\n"
     ]
    },
    {
     "name": "stdin",
     "output_type": "stream",
     "text": [
      "Your number is less than my number... Try again. 45\n"
     ]
    },
    {
     "name": "stdout",
     "output_type": "stream",
     "text": [
      "45\n"
     ]
    },
    {
     "name": "stdin",
     "output_type": "stream",
     "text": [
      "Your number is greater than my number... Try again. 42\n"
     ]
    },
    {
     "name": "stdout",
     "output_type": "stream",
     "text": [
      "42\n"
     ]
    },
    {
     "name": "stdin",
     "output_type": "stream",
     "text": [
      "Your number is less than my number... Try again. 43\n"
     ]
    },
    {
     "name": "stdout",
     "output_type": "stream",
     "text": [
      "43\n"
     ]
    },
    {
     "name": "stdin",
     "output_type": "stream",
     "text": [
      "Your number is less than my number... Try again. 44\n"
     ]
    },
    {
     "name": "stdout",
     "output_type": "stream",
     "text": [
      "44\n",
      "You have guessed my number! It was 44 . Well done, and thank you for testing me. :)\n"
     ]
    }
   ],
   "source": [
    "import random\n",
    "\n",
    "def check_user_input(input):\n",
    "    try:\n",
    "        # Convert it into integer\n",
    "        val = int(input)\n",
    "        return(val)\n",
    "    except ValueError:\n",
    "        print(\"You wrote \", input, \"...\")\n",
    "        print(\"The input was not an integer number... try inputting whole numbers, like 0,1,2,3...100.\")\n",
    "\n",
    "        \n",
    "def check_number(guess, hidden_number):\n",
    "    if(guess < hidden_number):\n",
    "        guess = input('Your number is less than my number... Try again.')\n",
    "        guess = check_user_input(guess)\n",
    "        return(guess)\n",
    "    elif(guess > hidden_number):\n",
    "        guess = input('Your number is greater than my number... Try again.')\n",
    "        guess = check_user_input(guess)\n",
    "        return(guess)\n",
    "        \n",
    "hidden_number = random.randint(0, 100)    \n",
    "guess = input(\"Welcome to a simple guessing game made using Python. I am thinking of an integer number between 0 and 100... Which number am I thinking?\")\n",
    "\n",
    "guess = check_user_input(guess)\n",
    "\n",
    "while (guess != hidden_number):\n",
    "    guess = check_number(guess, hidden_number)\n",
    "    print(guess)\n",
    "    \n",
    "print('You have guessed my number! It was', hidden_number,'. Well done, and thank you for testing me. :)')\n"
   ]
  },
  {
   "cell_type": "code",
   "execution_count": null,
   "id": "541becb3-dd1e-4715-8934-a662a9d96fe7",
   "metadata": {},
   "outputs": [],
   "source": []
  },
  {
   "cell_type": "code",
   "execution_count": null,
   "id": "21b62490-9f34-476b-aff1-9ae455bad643",
   "metadata": {},
   "outputs": [],
   "source": []
  }
 ],
 "metadata": {
  "kernelspec": {
   "display_name": "Python 3 (ipykernel)",
   "language": "python",
   "name": "python3"
  },
  "language_info": {
   "codemirror_mode": {
    "name": "ipython",
    "version": 3
   },
   "file_extension": ".py",
   "mimetype": "text/x-python",
   "name": "python",
   "nbconvert_exporter": "python",
   "pygments_lexer": "ipython3",
   "version": "3.10.4"
  }
 },
 "nbformat": 4,
 "nbformat_minor": 5
}
