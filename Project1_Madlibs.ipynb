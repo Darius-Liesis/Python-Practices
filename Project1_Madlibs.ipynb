{
 "cells": [
  {
   "cell_type": "code",
   "execution_count": 5,
   "id": "c6a88454-1b68-4c25-88da-4b9dfcb7bbd1",
   "metadata": {},
   "outputs": [
    {
     "name": "stdin",
     "output_type": "stream",
     "text": [
      "Please define a noun: banana\n",
      "Now define two random adjectives:  yellow long\n",
      "Almost done. Now define two verbs of your choosing:  walking flying\n",
      "Lastly, define your favourite object. Preferably a noun, or else it will sound weird: Omblomblons\n"
     ]
    },
    {
     "name": "stdout",
     "output_type": "stream",
     "text": [
      "It's done! The madlib turned out like so:\n",
      "banana is so yellow, and it makes me want to walking. Keep long and flying, like you are Omblomblons\n"
     ]
    }
   ],
   "source": [
    "#Courtesy of \"12 Beginner Python Projects - Coding Course\", https://www.youtube.com/watch?v=8ext9G7xspg\n",
    "#Madlibs is a python project that uses string concatenation to conjoin multiple strings into a single outcome\n",
    "\n",
    "#String concatenation lessons methods\n",
    "#principle = \"comment their code properly so that others can understand easier.\"\n",
    "#print(\"Every programmer needs to \" + principle)   #Method 1\n",
    "#print(\"Every programmer needs to {}\".format(principle))    #Method 2\n",
    "#print(f\"Every programmer needs to {principle}\")    #Method 3\n",
    "\n",
    "noun = input(\"Please define a noun:\")\n",
    "adj1, adj2 = input(\"Now define two random adjectives: \").split()\n",
    "verb1, verb2 = input(\"Almost done. Now define two verbs of your choosing: \").split()\n",
    "favourite_thing = input(\"Lastly, define your favourite object. Preferably a noun, or else it will sound weird:\")\n",
    "madlib = f\"{noun} is so {adj1}, and it makes me want to {verb1}. Keep {adj2} and {verb2}, like you are {favourite_thing}\"\n",
    "print(\"It's done! The madlib turned out like so:\")\n",
    "print(madlib)"
   ]
  },
  {
   "cell_type": "code",
   "execution_count": null,
   "id": "bffaf466-000c-4025-a7f4-f7640e4b324e",
   "metadata": {},
   "outputs": [],
   "source": []
  }
 ],
 "metadata": {
  "kernelspec": {
   "display_name": "Python 3 (ipykernel)",
   "language": "python",
   "name": "python3"
  },
  "language_info": {
   "codemirror_mode": {
    "name": "ipython",
    "version": 3
   },
   "file_extension": ".py",
   "mimetype": "text/x-python",
   "name": "python",
   "nbconvert_exporter": "python",
   "pygments_lexer": "ipython3",
   "version": "3.10.4"
  }
 },
 "nbformat": 4,
 "nbformat_minor": 5
}
